{
 "cells": [
  {
   "cell_type": "code",
   "execution_count": 1,
   "metadata": {},
   "outputs": [],
   "source": [
    "import numpy as np \n",
    "import pandas as pd"
   ]
  },
  {
   "cell_type": "code",
   "execution_count": 4,
   "metadata": {},
   "outputs": [],
   "source": [
    "# add the path to the curration file temporarily to the sys path\n",
    "import sys\n",
    "sys.path\n",
    "sys.path.append(\"C:/Users/Danial Nasir Awan'/Desktop/Notion/Projects and portfolios/Projects/prophet_present_project/liabraries\")\n",
    "import curration_test_3 as cu "
   ]
  },
  {
   "cell_type": "markdown",
   "metadata": {},
   "source": [
    "Cleaning and prepring l60 for testing"
   ]
  },
  {
   "cell_type": "code",
   "execution_count": 5,
   "metadata": {},
   "outputs": [
    {
     "data": {
      "text/plain": [
       "(24376, 73)"
      ]
     },
     "execution_count": 5,
     "metadata": {},
     "output_type": "execute_result"
    }
   ],
   "source": [
    "import pandas as pd \n",
    "testing = pd.read_csv('../Raw/mfnl6020241015_20241215.csv')\n",
    "testing.shape"
   ]
  },
  {
   "cell_type": "code",
   "execution_count": 6,
   "metadata": {},
   "outputs": [
    {
     "data": {
      "text/html": [
       "<div>\n",
       "<style scoped>\n",
       "    .dataframe tbody tr th:only-of-type {\n",
       "        vertical-align: middle;\n",
       "    }\n",
       "\n",
       "    .dataframe tbody tr th {\n",
       "        vertical-align: top;\n",
       "    }\n",
       "\n",
       "    .dataframe thead th {\n",
       "        text-align: right;\n",
       "    }\n",
       "</style>\n",
       "<table border=\"1\" class=\"dataframe\">\n",
       "  <thead>\n",
       "    <tr style=\"text-align: right;\">\n",
       "      <th></th>\n",
       "      <th>sku</th>\n",
       "      <th>purchase_date</th>\n",
       "      <th>sell_qty</th>\n",
       "      <th>business_order</th>\n",
       "      <th>per_unit_cost</th>\n",
       "    </tr>\n",
       "  </thead>\n",
       "  <tbody>\n",
       "    <tr>\n",
       "      <th>0</th>\n",
       "      <td>PSD226C8TFCF-2</td>\n",
       "      <td>2024-10-20</td>\n",
       "      <td>1</td>\n",
       "      <td>0</td>\n",
       "      <td>67.66</td>\n",
       "    </tr>\n",
       "    <tr>\n",
       "      <th>1</th>\n",
       "      <td>PSD226C8TFCF-2</td>\n",
       "      <td>2024-10-22</td>\n",
       "      <td>1</td>\n",
       "      <td>0</td>\n",
       "      <td>67.66</td>\n",
       "    </tr>\n",
       "    <tr>\n",
       "      <th>2</th>\n",
       "      <td>PSD22FRHJFGH-4</td>\n",
       "      <td>2024-10-18</td>\n",
       "      <td>2</td>\n",
       "      <td>0</td>\n",
       "      <td>40.26</td>\n",
       "    </tr>\n",
       "    <tr>\n",
       "      <th>3</th>\n",
       "      <td>PSD22FRHJFGH-4</td>\n",
       "      <td>2024-12-10</td>\n",
       "      <td>1</td>\n",
       "      <td>0</td>\n",
       "      <td>36.19</td>\n",
       "    </tr>\n",
       "    <tr>\n",
       "      <th>4</th>\n",
       "      <td>PSD22J2RKFK8</td>\n",
       "      <td>2024-10-15</td>\n",
       "      <td>6</td>\n",
       "      <td>0</td>\n",
       "      <td>32.77</td>\n",
       "    </tr>\n",
       "    <tr>\n",
       "      <th>...</th>\n",
       "      <td>...</td>\n",
       "      <td>...</td>\n",
       "      <td>...</td>\n",
       "      <td>...</td>\n",
       "      <td>...</td>\n",
       "    </tr>\n",
       "    <tr>\n",
       "      <th>16872</th>\n",
       "      <td>PSDZZY6F3QVJ</td>\n",
       "      <td>2024-12-08</td>\n",
       "      <td>1</td>\n",
       "      <td>0</td>\n",
       "      <td>190.99</td>\n",
       "    </tr>\n",
       "    <tr>\n",
       "      <th>16873</th>\n",
       "      <td>PSDZZY6F3QVJ</td>\n",
       "      <td>2024-12-09</td>\n",
       "      <td>2</td>\n",
       "      <td>0</td>\n",
       "      <td>190.99</td>\n",
       "    </tr>\n",
       "    <tr>\n",
       "      <th>16874</th>\n",
       "      <td>PSDZZY6F3QVJ</td>\n",
       "      <td>2024-12-10</td>\n",
       "      <td>1</td>\n",
       "      <td>0</td>\n",
       "      <td>190.99</td>\n",
       "    </tr>\n",
       "    <tr>\n",
       "      <th>16875</th>\n",
       "      <td>PSDZZY6F3QVJ</td>\n",
       "      <td>2024-12-11</td>\n",
       "      <td>3</td>\n",
       "      <td>0</td>\n",
       "      <td>190.99</td>\n",
       "    </tr>\n",
       "    <tr>\n",
       "      <th>16876</th>\n",
       "      <td>PSDZZY6F3QVJ</td>\n",
       "      <td>2024-12-13</td>\n",
       "      <td>1</td>\n",
       "      <td>0</td>\n",
       "      <td>190.99</td>\n",
       "    </tr>\n",
       "  </tbody>\n",
       "</table>\n",
       "<p>16877 rows × 5 columns</p>\n",
       "</div>"
      ],
      "text/plain": [
       "                  sku purchase_date  sell_qty  business_order  per_unit_cost\n",
       "0      PSD226C8TFCF-2    2024-10-20         1               0          67.66\n",
       "1      PSD226C8TFCF-2    2024-10-22         1               0          67.66\n",
       "2      PSD22FRHJFGH-4    2024-10-18         2               0          40.26\n",
       "3      PSD22FRHJFGH-4    2024-12-10         1               0          36.19\n",
       "4        PSD22J2RKFK8    2024-10-15         6               0          32.77\n",
       "...               ...           ...       ...             ...            ...\n",
       "16872    PSDZZY6F3QVJ    2024-12-08         1               0         190.99\n",
       "16873    PSDZZY6F3QVJ    2024-12-09         2               0         190.99\n",
       "16874    PSDZZY6F3QVJ    2024-12-10         1               0         190.99\n",
       "16875    PSDZZY6F3QVJ    2024-12-11         3               0         190.99\n",
       "16876    PSDZZY6F3QVJ    2024-12-13         1               0         190.99\n",
       "\n",
       "[16877 rows x 5 columns]"
      ]
     },
     "execution_count": 6,
     "metadata": {},
     "output_type": "execute_result"
    }
   ],
   "source": [
    "test = cu.curate_testing_data(testing,'daily')\n",
    "test"
   ]
  },
  {
   "cell_type": "code",
   "execution_count": 7,
   "metadata": {},
   "outputs": [
    {
     "name": "stdout",
     "output_type": "stream",
     "text": [
      "(77456, 7)\n"
     ]
    },
    {
     "data": {
      "text/html": [
       "<div>\n",
       "<style scoped>\n",
       "    .dataframe tbody tr th:only-of-type {\n",
       "        vertical-align: middle;\n",
       "    }\n",
       "\n",
       "    .dataframe tbody tr th {\n",
       "        vertical-align: top;\n",
       "    }\n",
       "\n",
       "    .dataframe thead th {\n",
       "        text-align: right;\n",
       "    }\n",
       "</style>\n",
       "<table border=\"1\" class=\"dataframe\">\n",
       "  <thead>\n",
       "    <tr style=\"text-align: right;\">\n",
       "      <th></th>\n",
       "      <th>purchase_date</th>\n",
       "      <th>sku</th>\n",
       "      <th>sell_qty</th>\n",
       "      <th>business_order</th>\n",
       "      <th>per_unit_cost</th>\n",
       "      <th>cap</th>\n",
       "      <th>floor</th>\n",
       "    </tr>\n",
       "  </thead>\n",
       "  <tbody>\n",
       "    <tr>\n",
       "      <th>0</th>\n",
       "      <td>2024-10-20</td>\n",
       "      <td>PSD226C8TFCF-2</td>\n",
       "      <td>1.0</td>\n",
       "      <td>0.0</td>\n",
       "      <td>67.66</td>\n",
       "      <td>2.0</td>\n",
       "      <td>0</td>\n",
       "    </tr>\n",
       "    <tr>\n",
       "      <th>1</th>\n",
       "      <td>2024-10-21</td>\n",
       "      <td>PSD226C8TFCF-2</td>\n",
       "      <td>0.0</td>\n",
       "      <td>0.0</td>\n",
       "      <td>NaN</td>\n",
       "      <td>2.0</td>\n",
       "      <td>0</td>\n",
       "    </tr>\n",
       "  </tbody>\n",
       "</table>\n",
       "</div>"
      ],
      "text/plain": [
       "  purchase_date             sku  sell_qty  business_order  per_unit_cost  cap  \\\n",
       "0    2024-10-20  PSD226C8TFCF-2       1.0             0.0          67.66  2.0   \n",
       "1    2024-10-21  PSD226C8TFCF-2       0.0             0.0            NaN  2.0   \n",
       "\n",
       "   floor  \n",
       "0      0  \n",
       "1      0  "
      ]
     },
     "execution_count": 7,
     "metadata": {},
     "output_type": "execute_result"
    }
   ],
   "source": [
    "testing_data = test \n",
    "testing_data['purchase_date'] = pd.to_datetime(testing_data['purchase_date'])\n",
    "testing_data[testing_data['purchase_date'].dt.date >= pd.Timestamp('2024-10-25').date()]\n",
    "# df = pd.DataFrame(columns=['sku','purchase_date','sell_qty','bussiness_oder'])\n",
    "tests = []\n",
    "for sku,test in testing_data.groupby('sku'):\n",
    "    # print(test)\n",
    "    test['purchase_date'] = pd.to_datetime(test['purchase_date'])\n",
    "    \n",
    "    min_date = test['purchase_date'].min()\n",
    "    max_date = test['purchase_date'].max()\n",
    "    date_range = pd.date_range(start=min_date, end=max_date, freq='D')\n",
    "\n",
    "    # Create a new DataFrame with the full date range\n",
    "    date_df = pd.DataFrame({'purchase_date': date_range})\n",
    "\n",
    "    # Merge with the original DataFrame to fill missing dates\n",
    "    test = pd.merge(date_df, test, on='purchase_date', how='left')\n",
    "\n",
    "    # Optionally, fill missing values (forward-fill, backfill, or set to default values)\n",
    "    test['sku'] = test['sku'].ffill()  # Example: Forward-fill SKUs\n",
    "    test['sell_qty'] = test['sell_qty'].fillna(0)  # Default missing sell_qty to 0\n",
    "    test['business_order'] = test['business_order'].fillna(0)  # Default missing business_order to 0\n",
    "    test['cap'] = test['sell_qty'].max()+1\n",
    "    test['floor'] = 0\n",
    "    tests.append(test)\n",
    "df  = pd.concat(tests, ignore_index=True)\n",
    "testing_data = df\n",
    "print(testing_data.shape)\n",
    "testing_data.head(2)"
   ]
  },
  {
   "cell_type": "code",
   "execution_count": 8,
   "metadata": {},
   "outputs": [
    {
     "name": "stdout",
     "output_type": "stream",
     "text": [
      "2024-10-15 00:00:00 2024-12-15 00:00:00\n"
     ]
    }
   ],
   "source": [
    "print(testing_data['purchase_date'].min(), testing_data['purchase_date'].max())"
   ]
  },
  {
   "cell_type": "code",
   "execution_count": 9,
   "metadata": {},
   "outputs": [],
   "source": [
    "testing_data.to_csv('../currated/testing_data_daily_currated_20241015_20241215.csv')"
   ]
  },
  {
   "cell_type": "markdown",
   "metadata": {},
   "source": [
    "currating training data daily\n"
   ]
  },
  {
   "cell_type": "code",
   "execution_count": 11,
   "metadata": {},
   "outputs": [
    {
     "name": "stderr",
     "output_type": "stream",
     "text": [
      "C:\\Users\\Danial Nasir Awan'\\AppData\\Local\\Temp\\ipykernel_11144\\1468330613.py:3: DtypeWarning: Columns (6,7) have mixed types. Specify dtype option on import or set low_memory=False.\n",
      "  prod = pd.read_csv('../raw/prod.csv')\n"
     ]
    }
   ],
   "source": [
    "mfn =pd.read_csv('../raw/mfn.csv')\n",
    "fba = pd.read_csv('../raw/fba.csv')\n",
    "prod = pd.read_csv('../raw/prod.csv')"
   ]
  },
  {
   "cell_type": "code",
   "execution_count": null,
   "metadata": {},
   "outputs": [],
   "source": [
    "# # add the path to the curration file temporarily to the sys path\n",
    "# import sys\n",
    "# sys.path\n",
    "# sys.path.append(\"C:/Users/Danial Nasir Awan'/Desktop/Notion/Projects and portfolios/Projects/prophet_amazon_02/liabraries\")\n",
    "# import curration_test_3 as cu "
   ]
  },
  {
   "cell_type": "code",
   "execution_count": 12,
   "metadata": {},
   "outputs": [],
   "source": [
    "product_data, mfn_data, fba_sales, _, df= cu.curate_table(prod,mfn,fba,'daily')"
   ]
  },
  {
   "cell_type": "code",
   "execution_count": 15,
   "metadata": {},
   "outputs": [
    {
     "data": {
      "text/html": [
       "<div>\n",
       "<style scoped>\n",
       "    .dataframe tbody tr th:only-of-type {\n",
       "        vertical-align: middle;\n",
       "    }\n",
       "\n",
       "    .dataframe tbody tr th {\n",
       "        vertical-align: top;\n",
       "    }\n",
       "\n",
       "    .dataframe thead th {\n",
       "        text-align: right;\n",
       "    }\n",
       "</style>\n",
       "<table border=\"1\" class=\"dataframe\">\n",
       "  <thead>\n",
       "    <tr style=\"text-align: right;\">\n",
       "      <th></th>\n",
       "      <th>sku</th>\n",
       "      <th>purchase_date</th>\n",
       "      <th>sell_qty</th>\n",
       "      <th>business_order</th>\n",
       "    </tr>\n",
       "  </thead>\n",
       "  <tbody>\n",
       "    <tr>\n",
       "      <th>0</th>\n",
       "      <td>PSD22J2RKFK8</td>\n",
       "      <td>2022-09-13 09:15:49</td>\n",
       "      <td>1</td>\n",
       "      <td>1</td>\n",
       "    </tr>\n",
       "    <tr>\n",
       "      <th>1</th>\n",
       "      <td>PSD22J2RKFK8</td>\n",
       "      <td>2022-09-16 11:54:40</td>\n",
       "      <td>2</td>\n",
       "      <td>0</td>\n",
       "    </tr>\n",
       "    <tr>\n",
       "      <th>2</th>\n",
       "      <td>PSD22J2RKFK8</td>\n",
       "      <td>2022-09-16 13:57:22</td>\n",
       "      <td>2</td>\n",
       "      <td>0</td>\n",
       "    </tr>\n",
       "    <tr>\n",
       "      <th>3</th>\n",
       "      <td>PSD22J2RKFK8</td>\n",
       "      <td>2022-09-19 10:30:46</td>\n",
       "      <td>1</td>\n",
       "      <td>0</td>\n",
       "    </tr>\n",
       "    <tr>\n",
       "      <th>4</th>\n",
       "      <td>PSD22J2RKFK8</td>\n",
       "      <td>2022-09-20 13:21:04</td>\n",
       "      <td>1</td>\n",
       "      <td>1</td>\n",
       "    </tr>\n",
       "    <tr>\n",
       "      <th>...</th>\n",
       "      <td>...</td>\n",
       "      <td>...</td>\n",
       "      <td>...</td>\n",
       "      <td>...</td>\n",
       "    </tr>\n",
       "    <tr>\n",
       "      <th>228542</th>\n",
       "      <td>PSDZZY6F3QVJ</td>\n",
       "      <td>2024-06-03 20:21:05</td>\n",
       "      <td>1</td>\n",
       "      <td>1</td>\n",
       "    </tr>\n",
       "    <tr>\n",
       "      <th>228543</th>\n",
       "      <td>PSDZZY6F3QVJ</td>\n",
       "      <td>2024-06-06 18:53:16</td>\n",
       "      <td>1</td>\n",
       "      <td>1</td>\n",
       "    </tr>\n",
       "    <tr>\n",
       "      <th>228544</th>\n",
       "      <td>PSDZZY6F3QVJ</td>\n",
       "      <td>2024-06-22 22:06:36</td>\n",
       "      <td>1</td>\n",
       "      <td>1</td>\n",
       "    </tr>\n",
       "    <tr>\n",
       "      <th>228545</th>\n",
       "      <td>PSDZZY6F3QVJ</td>\n",
       "      <td>2024-07-23 15:29:00</td>\n",
       "      <td>1</td>\n",
       "      <td>1</td>\n",
       "    </tr>\n",
       "    <tr>\n",
       "      <th>228546</th>\n",
       "      <td>PSDZZY6F3QVJ</td>\n",
       "      <td>2024-10-10 00:00:58</td>\n",
       "      <td>1</td>\n",
       "      <td>0</td>\n",
       "    </tr>\n",
       "  </tbody>\n",
       "</table>\n",
       "<p>228547 rows × 4 columns</p>\n",
       "</div>"
      ],
      "text/plain": [
       "                 sku       purchase_date  sell_qty  business_order\n",
       "0       PSD22J2RKFK8 2022-09-13 09:15:49         1               1\n",
       "1       PSD22J2RKFK8 2022-09-16 11:54:40         2               0\n",
       "2       PSD22J2RKFK8 2022-09-16 13:57:22         2               0\n",
       "3       PSD22J2RKFK8 2022-09-19 10:30:46         1               0\n",
       "4       PSD22J2RKFK8 2022-09-20 13:21:04         1               1\n",
       "...              ...                 ...       ...             ...\n",
       "228542  PSDZZY6F3QVJ 2024-06-03 20:21:05         1               1\n",
       "228543  PSDZZY6F3QVJ 2024-06-06 18:53:16         1               1\n",
       "228544  PSDZZY6F3QVJ 2024-06-22 22:06:36         1               1\n",
       "228545  PSDZZY6F3QVJ 2024-07-23 15:29:00         1               1\n",
       "228546  PSDZZY6F3QVJ 2024-10-10 00:00:58         1               0\n",
       "\n",
       "[228547 rows x 4 columns]"
      ]
     },
     "execution_count": 15,
     "metadata": {},
     "output_type": "execute_result"
    }
   ],
   "source": [
    "df "
   ]
  },
  {
   "cell_type": "code",
   "execution_count": 16,
   "metadata": {},
   "outputs": [
    {
     "name": "stdout",
     "output_type": "stream",
     "text": [
      "2021-10-01 10:24:32 2024-10-25 17:13:41\n"
     ]
    }
   ],
   "source": [
    "print(df['purchase_date'].min(), df['purchase_date'].max())"
   ]
  },
  {
   "cell_type": "code",
   "execution_count": 17,
   "metadata": {},
   "outputs": [],
   "source": [
    "df.to_csv('../currated/train_data_daily_20211001_20241025.csv')"
   ]
  },
  {
   "cell_type": "markdown",
   "metadata": {},
   "source": [
    "getting top skus which have a lot of sales"
   ]
  },
  {
   "cell_type": "code",
   "execution_count": 20,
   "metadata": {},
   "outputs": [],
   "source": [
    "# training_sku_df = pd.read_csv('../currated/train_data_daily_20211001_20241025.csv')\n",
    "# testing_top_sku_df = pd.read_csv('../currated/testing_data_daily_currated_20241015_20241215.csv')\n",
    "# top_skus = pd.read_csv('../currated/top150skus2024.csv')\n",
    "# training_sku_df = training_sku_df[training_sku_df['sku'].isin(top_skus['sku'])]\n",
    "# testing_top_sku_df = testing_top_sku_df[testing_top_sku_df['sku'].isin(top_skus['sku'])]"
   ]
  },
  {
   "cell_type": "code",
   "execution_count": null,
   "metadata": {},
   "outputs": [
    {
     "data": {
      "text/html": [
       "<div>\n",
       "<style scoped>\n",
       "    .dataframe tbody tr th:only-of-type {\n",
       "        vertical-align: middle;\n",
       "    }\n",
       "\n",
       "    .dataframe tbody tr th {\n",
       "        vertical-align: top;\n",
       "    }\n",
       "\n",
       "    .dataframe thead th {\n",
       "        text-align: right;\n",
       "    }\n",
       "</style>\n",
       "<table border=\"1\" class=\"dataframe\">\n",
       "  <thead>\n",
       "    <tr style=\"text-align: right;\">\n",
       "      <th></th>\n",
       "      <th>Unnamed: 0</th>\n",
       "      <th>sku</th>\n",
       "      <th>purchase_date</th>\n",
       "      <th>sell_qty</th>\n",
       "      <th>business_order</th>\n",
       "    </tr>\n",
       "  </thead>\n",
       "  <tbody>\n",
       "    <tr>\n",
       "      <th>0</th>\n",
       "      <td>0</td>\n",
       "      <td>PSD22J2RKFK8</td>\n",
       "      <td>2022-09-13 09:15:49</td>\n",
       "      <td>1</td>\n",
       "      <td>1</td>\n",
       "    </tr>\n",
       "    <tr>\n",
       "      <th>1</th>\n",
       "      <td>1</td>\n",
       "      <td>PSD22J2RKFK8</td>\n",
       "      <td>2022-09-16 11:54:40</td>\n",
       "      <td>2</td>\n",
       "      <td>0</td>\n",
       "    </tr>\n",
       "  </tbody>\n",
       "</table>\n",
       "</div>"
      ],
      "text/plain": [
       "   Unnamed: 0           sku        purchase_date  sell_qty  business_order\n",
       "0           0  PSD22J2RKFK8  2022-09-13 09:15:49         1               1\n",
       "1           1  PSD22J2RKFK8  2022-09-16 11:54:40         2               0"
      ]
     },
     "execution_count": 19,
     "metadata": {},
     "output_type": "execute_result"
    }
   ],
   "source": [
    "# training_sku_df.head(2)"
   ]
  },
  {
   "cell_type": "code",
   "execution_count": null,
   "metadata": {},
   "outputs": [
    {
     "data": {
      "text/html": [
       "<div>\n",
       "<style scoped>\n",
       "    .dataframe tbody tr th:only-of-type {\n",
       "        vertical-align: middle;\n",
       "    }\n",
       "\n",
       "    .dataframe tbody tr th {\n",
       "        vertical-align: top;\n",
       "    }\n",
       "\n",
       "    .dataframe thead th {\n",
       "        text-align: right;\n",
       "    }\n",
       "</style>\n",
       "<table border=\"1\" class=\"dataframe\">\n",
       "  <thead>\n",
       "    <tr style=\"text-align: right;\">\n",
       "      <th></th>\n",
       "      <th>Unnamed: 0</th>\n",
       "      <th>purchase_date</th>\n",
       "      <th>sku</th>\n",
       "      <th>sell_qty</th>\n",
       "      <th>business_order</th>\n",
       "      <th>per_unit_cost</th>\n",
       "      <th>cap</th>\n",
       "      <th>floor</th>\n",
       "    </tr>\n",
       "  </thead>\n",
       "  <tbody>\n",
       "    <tr>\n",
       "      <th>118</th>\n",
       "      <td>118</td>\n",
       "      <td>2024-10-17</td>\n",
       "      <td>PSD23TWHT52X</td>\n",
       "      <td>1.0</td>\n",
       "      <td>0.0</td>\n",
       "      <td>156.62</td>\n",
       "      <td>3.0</td>\n",
       "      <td>0</td>\n",
       "    </tr>\n",
       "    <tr>\n",
       "      <th>119</th>\n",
       "      <td>119</td>\n",
       "      <td>2024-10-18</td>\n",
       "      <td>PSD23TWHT52X</td>\n",
       "      <td>0.0</td>\n",
       "      <td>0.0</td>\n",
       "      <td>NaN</td>\n",
       "      <td>3.0</td>\n",
       "      <td>0</td>\n",
       "    </tr>\n",
       "  </tbody>\n",
       "</table>\n",
       "</div>"
      ],
      "text/plain": [
       "     Unnamed: 0 purchase_date           sku  sell_qty  business_order  \\\n",
       "118         118    2024-10-17  PSD23TWHT52X       1.0             0.0   \n",
       "119         119    2024-10-18  PSD23TWHT52X       0.0             0.0   \n",
       "\n",
       "     per_unit_cost  cap  floor  \n",
       "118         156.62  3.0      0  \n",
       "119            NaN  3.0      0  "
      ]
     },
     "execution_count": 11,
     "metadata": {},
     "output_type": "execute_result"
    }
   ],
   "source": [
    "# testing_top_sku_df.head(2)"
   ]
  },
  {
   "cell_type": "code",
   "execution_count": null,
   "metadata": {},
   "outputs": [
    {
     "name": "stderr",
     "output_type": "stream",
     "text": [
      "C:\\Users\\Danial Nasir Awan'\\AppData\\Local\\Temp\\ipykernel_17316\\3477599331.py:1: FutureWarning: The provided callable <built-in function sum> is currently using SeriesGroupBy.sum. In a future version of pandas, the provided callable will be used directly. To keep current behavior pass the string \"sum\" instead.\n",
      "  top_sellers_training = training_sku_df.groupby('sku').agg({'sell_qty': sum, 'sku': 'size'}).rename(columns={'sku': 'RowCount'}).sort_values(by=['sell_qty', 'RowCount'], ascending=False).reset_index()\n"
     ]
    },
    {
     "data": {
      "text/html": [
       "<div>\n",
       "<style scoped>\n",
       "    .dataframe tbody tr th:only-of-type {\n",
       "        vertical-align: middle;\n",
       "    }\n",
       "\n",
       "    .dataframe tbody tr th {\n",
       "        vertical-align: top;\n",
       "    }\n",
       "\n",
       "    .dataframe thead th {\n",
       "        text-align: right;\n",
       "    }\n",
       "</style>\n",
       "<table border=\"1\" class=\"dataframe\">\n",
       "  <thead>\n",
       "    <tr style=\"text-align: right;\">\n",
       "      <th></th>\n",
       "      <th>sku</th>\n",
       "      <th>sell_qty</th>\n",
       "      <th>RowCount</th>\n",
       "    </tr>\n",
       "  </thead>\n",
       "  <tbody>\n",
       "    <tr>\n",
       "      <th>0</th>\n",
       "      <td>PSDQBLCVLWTW</td>\n",
       "      <td>11537</td>\n",
       "      <td>8427</td>\n",
       "    </tr>\n",
       "    <tr>\n",
       "      <th>1</th>\n",
       "      <td>PSD8CHBKL6MJ</td>\n",
       "      <td>4142</td>\n",
       "      <td>2881</td>\n",
       "    </tr>\n",
       "    <tr>\n",
       "      <th>2</th>\n",
       "      <td>PSDYT65JHBNK</td>\n",
       "      <td>3632</td>\n",
       "      <td>2685</td>\n",
       "    </tr>\n",
       "    <tr>\n",
       "      <th>3</th>\n",
       "      <td>PSD6NVKC69NJ</td>\n",
       "      <td>2467</td>\n",
       "      <td>932</td>\n",
       "    </tr>\n",
       "  </tbody>\n",
       "</table>\n",
       "</div>"
      ],
      "text/plain": [
       "            sku  sell_qty  RowCount\n",
       "0  PSDQBLCVLWTW     11537      8427\n",
       "1  PSD8CHBKL6MJ      4142      2881\n",
       "2  PSDYT65JHBNK      3632      2685\n",
       "3  PSD6NVKC69NJ      2467       932"
      ]
     },
     "execution_count": 17,
     "metadata": {},
     "output_type": "execute_result"
    }
   ],
   "source": [
    "# top_sellers_training = training_sku_df.groupby('sku').agg({'sell_qty': sum, 'sku': 'size'}).rename(columns={'sku': 'RowCount'}).sort_values(by=['sell_qty', 'RowCount'], ascending=False).reset_index()\n",
    "# top_sellers_training.head(4)"
   ]
  },
  {
   "cell_type": "code",
   "execution_count": null,
   "metadata": {},
   "outputs": [
    {
     "name": "stderr",
     "output_type": "stream",
     "text": [
      "C:\\Users\\Danial Nasir Awan'\\AppData\\Local\\Temp\\ipykernel_17316\\3846785291.py:1: FutureWarning: The provided callable <built-in function sum> is currently using SeriesGroupBy.sum. In a future version of pandas, the provided callable will be used directly. To keep current behavior pass the string \"sum\" instead.\n",
      "  top_sellers_test = testing_top_sku_df.groupby('sku').agg({'sell_qty': sum, 'sku': 'size'}).rename(columns={'sku': 'RowCount'}).sort_values(by=['sell_qty', 'RowCount'], ascending=False).reset_index()\n"
     ]
    },
    {
     "data": {
      "text/html": [
       "<div>\n",
       "<style scoped>\n",
       "    .dataframe tbody tr th:only-of-type {\n",
       "        vertical-align: middle;\n",
       "    }\n",
       "\n",
       "    .dataframe tbody tr th {\n",
       "        vertical-align: top;\n",
       "    }\n",
       "\n",
       "    .dataframe thead th {\n",
       "        text-align: right;\n",
       "    }\n",
       "</style>\n",
       "<table border=\"1\" class=\"dataframe\">\n",
       "  <thead>\n",
       "    <tr style=\"text-align: right;\">\n",
       "      <th></th>\n",
       "      <th>sku</th>\n",
       "      <th>sell_qty</th>\n",
       "      <th>RowCount</th>\n",
       "    </tr>\n",
       "  </thead>\n",
       "  <tbody>\n",
       "    <tr>\n",
       "      <th>0</th>\n",
       "      <td>PSDYT65JHBNK</td>\n",
       "      <td>469.0</td>\n",
       "      <td>60</td>\n",
       "    </tr>\n",
       "    <tr>\n",
       "      <th>1</th>\n",
       "      <td>PSD6B28VJ233</td>\n",
       "      <td>440.0</td>\n",
       "      <td>55</td>\n",
       "    </tr>\n",
       "    <tr>\n",
       "      <th>2</th>\n",
       "      <td>PSDWXZTK64BB</td>\n",
       "      <td>411.0</td>\n",
       "      <td>62</td>\n",
       "    </tr>\n",
       "    <tr>\n",
       "      <th>3</th>\n",
       "      <td>PSDVY98HJBVN</td>\n",
       "      <td>386.0</td>\n",
       "      <td>60</td>\n",
       "    </tr>\n",
       "  </tbody>\n",
       "</table>\n",
       "</div>"
      ],
      "text/plain": [
       "            sku  sell_qty  RowCount\n",
       "0  PSDYT65JHBNK     469.0        60\n",
       "1  PSD6B28VJ233     440.0        55\n",
       "2  PSDWXZTK64BB     411.0        62\n",
       "3  PSDVY98HJBVN     386.0        60"
      ]
     },
     "execution_count": 18,
     "metadata": {},
     "output_type": "execute_result"
    }
   ],
   "source": [
    "# top_sellers_test = testing_top_sku_df.groupby('sku').agg({'sell_qty': sum, 'sku': 'size'}).rename(columns={'sku': 'RowCount'}).sort_values(by=['sell_qty', 'RowCount'], ascending=False).reset_index()\n",
    "# top_sellers_test.head(4)"
   ]
  },
  {
   "cell_type": "code",
   "execution_count": null,
   "metadata": {},
   "outputs": [],
   "source": [
    "# # Find SKUs that are common in both DataFrames\n",
    "# common_skus = pd.merge(top_sellers_test, top_sellers_training, on='sku', suffixes=('_test', '_train'))\n",
    "\n",
    "# # Sum the sell_qty values from both DataFrames (optional, depending on your need)\n",
    "# common_skus['total_sell_qty'] = common_skus['sell_qty_test'] + common_skus['sell_qty_train']\n",
    "\n",
    "# # Sort by the total_sell_qty in descending order\n",
    "# sorted_common_skus = common_skus.sort_values(by='total_sell_qty', ascending=False)\n",
    "\n",
    "# # Select the top 20 SKUs\n",
    "# top_20_common_skus = sorted_common_skus.head(20)"
   ]
  },
  {
   "cell_type": "code",
   "execution_count": null,
   "metadata": {},
   "outputs": [],
   "source": [
    "# top_20_common_skus.to_csv('../currated/top_skus_with_sell_qty.csv')"
   ]
  },
  {
   "cell_type": "code",
   "execution_count": null,
   "metadata": {},
   "outputs": [],
   "source": []
  }
 ],
 "metadata": {
  "kernelspec": {
   "display_name": "Python 3",
   "language": "python",
   "name": "python3"
  },
  "language_info": {
   "codemirror_mode": {
    "name": "ipython",
    "version": 3
   },
   "file_extension": ".py",
   "mimetype": "text/x-python",
   "name": "python",
   "nbconvert_exporter": "python",
   "pygments_lexer": "ipython3",
   "version": "3.12.4"
  }
 },
 "nbformat": 4,
 "nbformat_minor": 2
}
