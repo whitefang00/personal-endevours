{
 "cells": [
  {
   "cell_type": "code",
   "execution_count": 32,
   "id": "2db03bc3",
   "metadata": {},
   "outputs": [],
   "source": [
    "import pandas as pd \n",
    "import pickle\n",
    "import sys \n",
    "sys.path.append(\"C:/Users/Danial Nasir Awan'/Desktop/Notion/Projects and portfolios/personal-endevours/projects/amazon-sales-predictor/libraries\")\n",
    "import training_xgb_models as trainer"
   ]
  },
  {
   "cell_type": "code",
   "execution_count": 33,
   "id": "66bbf20e",
   "metadata": {},
   "outputs": [
    {
     "name": "stdout",
     "output_type": "stream",
     "text": [
      "Loaded sku len: 50\n",
      "Loaded skus: ['PSDGLCRTWXC4', 'PSDC9FX9TH5V', 'PSDCF54V2TKG', 'PSDGFWMQCZCL', 'PSDQG6VWMMZV', 'PSDRZVCW8M36', 'PSD9TJN45ZFL', 'PSDQ8Z5JZLVM', 'PSDWKY269FGX', 'PSDZ66XTNWL8', 'PSDC8886WMZZ', 'PSDWLHH83Z5R', 'PSDZKF8NBH5Y', 'PSD8F689H89H', 'PSDHBJK5KMXH', 'PSDYGQ2FH553', 'PSDXZQRFV2GV', 'PSD8JNGGT2ZB', 'PSD9Y369LLY6', 'PSDR2J4XBVFC', 'PSDZZHZ6583N', 'PSDCKZ5HJTVT', 'PSD3CC3YVKR5', 'PSDGHY52544X', 'PSDWC2LWJJKJ', 'PSD9T5H3KJZ9', 'PSD9L59C3HX2', 'PSD5TGG3J4FZ', 'PSD6B28VJ233', 'PSDX35CJQQXT', 'PSDVY98HJBVN', 'PSD5TGG3JJVJ', 'PSDHRF54JQVX', 'PSDM29W2NH9Z', 'PSDFJ3TFV53J', 'PSDYT65JHBNK', 'PSDW2ZM8YFJ4', 'PSDCQ68TGM4N', 'PSDCX59NXJKT', 'PSD4FRY5C46Y', 'PSDRYF2HTVW4', 'PSDJYKCT3GBM', 'PSD3QK3YQCJ6', 'PSDTGCY8WBCL', 'PSDXY82RRJ2G', 'PSDL5FMCVWHQ', 'PSDFY9YGJ4F4', 'PSD25NRZYY2N', 'PSD35W2BN2XR', 'PSD9YBNBTH3N']\n",
      "<class 'list'>\n"
     ]
    }
   ],
   "source": [
    "skus_to_model_path =  \"Data/currated/skus_to_be_modeled_2_10.pkl\"\n",
    "try:\n",
    "    with open(f'{skus_to_model_path}', 'rb') as file:\n",
    "        sku_to_model = pickle.load(file)\n",
    "\n",
    "    print(f\"Loaded sku len: {len(sku_to_model)}\")\n",
    "    \n",
    "    print(f\"Loaded skus: {sku_to_model}\")\n",
    "    print(type(sku_to_model))\n",
    "except Exception as e:\n",
    "    print(e)\n",
    "    sku_to_model = []"
   ]
  },
  {
   "cell_type": "code",
   "execution_count": 34,
   "id": "d8c1d9e4",
   "metadata": {},
   "outputs": [
    {
     "name": "stdout",
     "output_type": "stream",
     "text": [
      "Loaded sku len: 300\n",
      "Loaded skus: {'PSDX35CJQQXT_custom': <prophet.forecaster.Prophet object at 0x000002637D07AF00>, 'PSDX35CJQQXT_mse': <prophet.forecaster.Prophet object at 0x000002630201A6F0>, 'PSDX35CJQQXT_huber_loss': <prophet.forecaster.Prophet object at 0x0000026302018D40>, 'PSDX35CJQQXT_poisson_loss': <prophet.forecaster.Prophet object at 0x0000026302021CA0>, 'PSDX35CJQQXT_mape': <prophet.forecaster.Prophet object at 0x0000026302022120>, 'PSDX35CJQQXT_remse': <prophet.forecaster.Prophet object at 0x0000026302023830>, 'PSD8JNGGT2ZB_custom': <prophet.forecaster.Prophet object at 0x0000026366E65490>, 'PSD8JNGGT2ZB_mse': <prophet.forecaster.Prophet object at 0x00000263020FFBC0>, 'PSD8JNGGT2ZB_huber_loss': <prophet.forecaster.Prophet object at 0x00000263020FC740>, 'PSD8JNGGT2ZB_poisson_loss': <prophet.forecaster.Prophet object at 0x00000263020FE630>, 'PSD8JNGGT2ZB_mape': <prophet.forecaster.Prophet object at 0x00000263020669C0>, 'PSD8JNGGT2ZB_remse': <prophet.forecaster.Prophet object at 0x00000263020656A0>, 'PSDCKZ5HJTVT_custom': <prophet.forecaster.Prophet object at 0x0000026302065B20>, 'PSDCKZ5HJTVT_mse': <prophet.forecaster.Prophet object at 0x0000026302064F80>, 'PSDCKZ5HJTVT_huber_loss': <prophet.forecaster.Prophet object at 0x00000263020D87A0>, 'PSDCKZ5HJTVT_poisson_loss': <prophet.forecaster.Prophet object at 0x00000263020D8B90>, 'PSDCKZ5HJTVT_mape': <prophet.forecaster.Prophet object at 0x00000263020DBFB0>, 'PSDCKZ5HJTVT_remse': <prophet.forecaster.Prophet object at 0x00000263176B8B60>, 'PSDR2J4XBVFC_custom': <prophet.forecaster.Prophet object at 0x00000263176B88C0>, 'PSDR2J4XBVFC_mse': <prophet.forecaster.Prophet object at 0x000002637D6C2240>, 'PSDR2J4XBVFC_huber_loss': <prophet.forecaster.Prophet object at 0x000002630204C500>, 'PSDR2J4XBVFC_poisson_loss': <prophet.forecaster.Prophet object at 0x000002630204DEE0>, 'PSDR2J4XBVFC_mape': <prophet.forecaster.Prophet object at 0x000002630204FEC0>, 'PSDR2J4XBVFC_remse': <prophet.forecaster.Prophet object at 0x00000263020B9160>, 'PSD35W2BN2XR_custom': <prophet.forecaster.Prophet object at 0x00000263020BA870>, 'PSD35W2BN2XR_mse': <prophet.forecaster.Prophet object at 0x00000263020BAD50>, 'PSD35W2BN2XR_huber_loss': <prophet.forecaster.Prophet object at 0x00000263020D5F10>, 'PSD35W2BN2XR_poisson_loss': <prophet.forecaster.Prophet object at 0x00000263020D6180>, 'PSD35W2BN2XR_mape': <prophet.forecaster.Prophet object at 0x00000263020D5CD0>, 'PSD35W2BN2XR_remse': <prophet.forecaster.Prophet object at 0x00000263020D4500>, 'PSD5TGG3J4FZ_custom': <prophet.forecaster.Prophet object at 0x0000026302031490>, 'PSD5TGG3J4FZ_mse': <prophet.forecaster.Prophet object at 0x0000026302032EA0>, 'PSD5TGG3J4FZ_huber_loss': <prophet.forecaster.Prophet object at 0x0000026302031940>, 'PSD5TGG3J4FZ_poisson_loss': <prophet.forecaster.Prophet object at 0x0000026302054200>, 'PSD5TGG3J4FZ_mape': <prophet.forecaster.Prophet object at 0x0000026302055730>, 'PSD5TGG3J4FZ_remse': <prophet.forecaster.Prophet object at 0x0000026302057110>, 'PSDRZVCW8M36_custom': <prophet.forecaster.Prophet object at 0x000002637D6E7EC0>, 'PSDRZVCW8M36_mse': <prophet.forecaster.Prophet object at 0x000002630CCFC6E0>, 'PSDRZVCW8M36_huber_loss': <prophet.forecaster.Prophet object at 0x000002630CCFF050>, 'PSDRZVCW8M36_poisson_loss': <prophet.forecaster.Prophet object at 0x000002630CCFF230>, 'PSDRZVCW8M36_mape': <prophet.forecaster.Prophet object at 0x00000263020DF350>, 'PSDRZVCW8M36_remse': <prophet.forecaster.Prophet object at 0x00000263020DDDF0>, 'PSDZZHZ6583N_custom': <prophet.forecaster.Prophet object at 0x00000263020DE630>, 'PSDZZHZ6583N_mse': <prophet.forecaster.Prophet object at 0x00000263176CD520>, 'PSDZZHZ6583N_huber_loss': <prophet.forecaster.Prophet object at 0x00000263176CE600>, 'PSDZZHZ6583N_poisson_loss': <prophet.forecaster.Prophet object at 0x000002630207E900>, 'PSDZZHZ6583N_mape': <prophet.forecaster.Prophet object at 0x000002630207D430>, 'PSDZZHZ6583N_remse': <prophet.forecaster.Prophet object at 0x000002630207F320>, 'PSDCF54V2TKG_custom': <prophet.forecaster.Prophet object at 0x000002630CDC08F0>, 'PSDCF54V2TKG_mse': <prophet.forecaster.Prophet object at 0x000002630CDC3140>, 'PSDCF54V2TKG_huber_loss': <prophet.forecaster.Prophet object at 0x000002630CDC3470>, 'PSDCF54V2TKG_poisson_loss': <prophet.forecaster.Prophet object at 0x000002630CD298B0>, 'PSDCF54V2TKG_mape': <prophet.forecaster.Prophet object at 0x000002630CD2A120>, 'PSDCF54V2TKG_remse': <prophet.forecaster.Prophet object at 0x000002630CD2A180>, 'PSDVY98HJBVN_custom': <prophet.forecaster.Prophet object at 0x000002630CDE9D60>, 'PSDVY98HJBVN_mse': <prophet.forecaster.Prophet object at 0x000002630CDE80E0>, 'PSDVY98HJBVN_huber_loss': <prophet.forecaster.Prophet object at 0x000002630CD8B140>, 'PSDVY98HJBVN_poisson_loss': <prophet.forecaster.Prophet object at 0x000002630CD88230>, 'PSDVY98HJBVN_mape': <prophet.forecaster.Prophet object at 0x000002630CD8AE70>, 'PSDVY98HJBVN_remse': <prophet.forecaster.Prophet object at 0x00000263176ECD40>, 'PSD3QK3YQCJ6_custom': <prophet.forecaster.Prophet object at 0x0000026317707A10>, 'PSD3QK3YQCJ6_mse': <prophet.forecaster.Prophet object at 0x000002637D77FA10>, 'PSD3QK3YQCJ6_huber_loss': <prophet.forecaster.Prophet object at 0x000002630208C8C0>, 'PSD3QK3YQCJ6_poisson_loss': <prophet.forecaster.Prophet object at 0x000002630208DEE0>, 'PSD3QK3YQCJ6_mape': <prophet.forecaster.Prophet object at 0x000002630208D430>, 'PSD3QK3YQCJ6_remse': <prophet.forecaster.Prophet object at 0x000002630CD9F2F0>, 'PSD9T5H3KJZ9_custom': <prophet.forecaster.Prophet object at 0x000002630CD9F710>, 'PSD9T5H3KJZ9_mse': <prophet.forecaster.Prophet object at 0x000002630CD3C0E0>, 'PSD9T5H3KJZ9_huber_loss': <prophet.forecaster.Prophet object at 0x000002630CD3EF60>, 'PSD9T5H3KJZ9_poisson_loss': <prophet.forecaster.Prophet object at 0x000002630CD72300>, 'PSD9T5H3KJZ9_mape': <prophet.forecaster.Prophet object at 0x000002630CD700E0>, 'PSD9T5H3KJZ9_remse': <prophet.forecaster.Prophet object at 0x000002630CD713D0>, 'PSDFJ3TFV53J_custom': <prophet.forecaster.Prophet object at 0x000002630CD4A870>, 'PSDFJ3TFV53J_mse': <prophet.forecaster.Prophet object at 0x000002630CD4B2C0>, 'PSDFJ3TFV53J_huber_loss': <prophet.forecaster.Prophet object at 0x000002637D810D10>, 'PSDFJ3TFV53J_poisson_loss': <prophet.forecaster.Prophet object at 0x000002637D813170>, 'PSDFJ3TFV53J_mape': <prophet.forecaster.Prophet object at 0x000002637D8103B0>, 'PSDFJ3TFV53J_remse': <prophet.forecaster.Prophet object at 0x00000263020BE300>, 'PSDW2ZM8YFJ4_custom': <prophet.forecaster.Prophet object at 0x00000263020BF170>, 'PSDW2ZM8YFJ4_mse': <prophet.forecaster.Prophet object at 0x000002630CD0B7A0>, 'PSDW2ZM8YFJ4_huber_loss': <prophet.forecaster.Prophet object at 0x000002630CD0BA70>, 'PSDW2ZM8YFJ4_poisson_loss': <prophet.forecaster.Prophet object at 0x000002637D81C470>, 'PSDW2ZM8YFJ4_mape': <prophet.forecaster.Prophet object at 0x000002637D81E2A0>, 'PSDW2ZM8YFJ4_remse': <prophet.forecaster.Prophet object at 0x000002637D81CDD0>, 'PSDXZQRFV2GV_custom': <prophet.forecaster.Prophet object at 0x000002637D7C4410>, 'PSDXZQRFV2GV_mse': <prophet.forecaster.Prophet object at 0x00000263176F1EE0>, 'PSDXZQRFV2GV_huber_loss': <prophet.forecaster.Prophet object at 0x000002630CD18F80>, 'PSDXZQRFV2GV_poisson_loss': <prophet.forecaster.Prophet object at 0x000002630CD1A120>, 'PSDXZQRFV2GV_mape': <prophet.forecaster.Prophet object at 0x000002630CD19220>, 'PSDXZQRFV2GV_remse': <prophet.forecaster.Prophet object at 0x000002637D7F6D50>, 'PSDYT65JHBNK_custom': <prophet.forecaster.Prophet object at 0x000002637D78C830>, 'PSDYT65JHBNK_mse': <prophet.forecaster.Prophet object at 0x000002637D78DAF0>, 'PSDYT65JHBNK_huber_loss': <prophet.forecaster.Prophet object at 0x000002630CDD8080>, 'PSDYT65JHBNK_poisson_loss': <prophet.forecaster.Prophet object at 0x000002630CDD98E0>, 'PSDYT65JHBNK_mape': <prophet.forecaster.Prophet object at 0x000002630CDC8050>, 'PSDYT65JHBNK_remse': <prophet.forecaster.Prophet object at 0x000002630CDCA4E0>, 'PSD3CC3YVKR5_custom': <prophet.forecaster.Prophet object at 0x000002630CD593D0>, 'PSD3CC3YVKR5_mse': <prophet.forecaster.Prophet object at 0x000002630CD5B8C0>, 'PSD3CC3YVKR5_huber_loss': <prophet.forecaster.Prophet object at 0x000002637D7EB2C0>, 'PSD3CC3YVKR5_poisson_loss': <prophet.forecaster.Prophet object at 0x000002637D7D83B0>, 'PSD3CC3YVKR5_mape': <prophet.forecaster.Prophet object at 0x000002637D7DB0B0>, 'PSD3CC3YVKR5_remse': <prophet.forecaster.Prophet object at 0x000002637D776C60>, 'PSD9TJN45ZFL_custom': <prophet.forecaster.Prophet object at 0x000002637D7753A0>, 'PSD9TJN45ZFL_mse': <prophet.forecaster.Prophet object at 0x00000263020EDC10>, 'PSD9TJN45ZFL_huber_loss': <prophet.forecaster.Prophet object at 0x00000263020EFFE0>, 'PSD9TJN45ZFL_poisson_loss': <prophet.forecaster.Prophet object at 0x00000263176249B0>, 'PSD9TJN45ZFL_mape': <prophet.forecaster.Prophet object at 0x0000026317626210>, 'PSD9TJN45ZFL_remse': <prophet.forecaster.Prophet object at 0x0000026317627A10>, 'PSD9Y369LLY6_custom': <prophet.forecaster.Prophet object at 0x000002633012D2B0>, 'PSD9Y369LLY6_mse': <prophet.forecaster.Prophet object at 0x000002633012EB70>, 'PSD9Y369LLY6_huber_loss': <prophet.forecaster.Prophet object at 0x00000263047F0440>, 'PSD9Y369LLY6_poisson_loss': <prophet.forecaster.Prophet object at 0x00000263047F1CD0>, 'PSD9Y369LLY6_mape': <prophet.forecaster.Prophet object at 0x00000263047F3560>, 'PSD9Y369LLY6_remse': <prophet.forecaster.Prophet object at 0x0000026304834D40>, 'PSDC8886WMZZ_custom': <prophet.forecaster.Prophet object at 0x00000263048365D0>, 'PSDC8886WMZZ_mse': <prophet.forecaster.Prophet object at 0x0000026304837DD0>, 'PSDC8886WMZZ_huber_loss': <prophet.forecaster.Prophet object at 0x0000026304871610>, 'PSDC8886WMZZ_poisson_loss': <prophet.forecaster.Prophet object at 0x0000026304872E70>, 'PSDC8886WMZZ_mape': <prophet.forecaster.Prophet object at 0x000002630481C650>, 'PSDC8886WMZZ_remse': <prophet.forecaster.Prophet object at 0x000002630481DF10>, 'PSDZKF8NBH5Y_custom': <prophet.forecaster.Prophet object at 0x000002630481F6B0>, 'PSDZKF8NBH5Y_mse': <prophet.forecaster.Prophet object at 0x00000263073A0E90>, 'PSDZKF8NBH5Y_huber_loss': <prophet.forecaster.Prophet object at 0x00000263073A2750>, 'PSDZKF8NBH5Y_poisson_loss': <prophet.forecaster.Prophet object at 0x0000026307344050>, 'PSDZKF8NBH5Y_mape': <prophet.forecaster.Prophet object at 0x0000026307345910>, 'PSDZKF8NBH5Y_remse': <prophet.forecaster.Prophet object at 0x00000263073471D0>, 'PSD4FRY5C46Y_custom': <prophet.forecaster.Prophet object at 0x00000263073FCAD0>, 'PSD4FRY5C46Y_mse': <prophet.forecaster.Prophet object at 0x00000263073FE630>, 'PSD4FRY5C46Y_huber_loss': <prophet.forecaster.Prophet object at 0x00000263073FFD10>, 'PSD4FRY5C46Y_poisson_loss': <prophet.forecaster.Prophet object at 0x00000263073CD430>, 'PSD4FRY5C46Y_mape': <prophet.forecaster.Prophet object at 0x00000263073CEB10>, 'PSD4FRY5C46Y_remse': <prophet.forecaster.Prophet object at 0x0000026313804230>, 'PSD25NRZYY2N_custom': <prophet.forecaster.Prophet object at 0x0000026313805910>, 'PSD25NRZYY2N_mse': <prophet.forecaster.Prophet object at 0x0000026313807500>, 'PSD25NRZYY2N_huber_loss': <prophet.forecaster.Prophet object at 0x00000263137A8C50>, 'PSD25NRZYY2N_poisson_loss': <prophet.forecaster.Prophet object at 0x00000263137AA390>, 'PSD25NRZYY2N_mape': <prophet.forecaster.Prophet object at 0x00000263137ABA10>, 'PSD25NRZYY2N_remse': <prophet.forecaster.Prophet object at 0x00000263137AD130>, 'PSD5TGG3JJVJ_custom': <prophet.forecaster.Prophet object at 0x00000263137AE7B0>, 'PSD5TGG3JJVJ_mse': <prophet.forecaster.Prophet object at 0x00000263137AFE90>, 'PSD5TGG3JJVJ_huber_loss': <prophet.forecaster.Prophet object at 0x00000263137D55B0>, 'PSD5TGG3JJVJ_poisson_loss': <prophet.forecaster.Prophet object at 0x00000263137D6C90>, 'PSD5TGG3JJVJ_mape': <prophet.forecaster.Prophet object at 0x0000026313814350>, 'PSD5TGG3JJVJ_remse': <prophet.forecaster.Prophet object at 0x0000026313815A30>, 'PSD8F689H89H_custom': <prophet.forecaster.Prophet object at 0x0000026313817170>, 'PSD8F689H89H_mse': <prophet.forecaster.Prophet object at 0x000002631C9E0890>, 'PSD8F689H89H_huber_loss': <prophet.forecaster.Prophet object at 0x000002631C9E1F10>, 'PSD8F689H89H_poisson_loss': <prophet.forecaster.Prophet object at 0x000002631C9E35F0>, 'PSD8F689H89H_mape': <prophet.forecaster.Prophet object at 0x000002631CA04CB0>, 'PSD8F689H89H_remse': <prophet.forecaster.Prophet object at 0x000002631CA06390>, 'PSD9L59C3HX2_custom': <prophet.forecaster.Prophet object at 0x000002631CA07A10>, 'PSD9L59C3HX2_mse': <prophet.forecaster.Prophet object at 0x000002631C941130>, 'PSD9L59C3HX2_huber_loss': <prophet.forecaster.Prophet object at 0x000002631C9427B0>, 'PSD9L59C3HX2_poisson_loss': <prophet.forecaster.Prophet object at 0x000002631C943E90>, 'PSD9L59C3HX2_mape': <prophet.forecaster.Prophet object at 0x000002631C9A9550>, 'PSD9L59C3HX2_remse': <prophet.forecaster.Prophet object at 0x000002631C9AAC90>, 'PSD9YBNBTH3N_custom': <prophet.forecaster.Prophet object at 0x000002631C958350>, 'PSD9YBNBTH3N_mse': <prophet.forecaster.Prophet object at 0x000002631C959A90>, 'PSD9YBNBTH3N_huber_loss': <prophet.forecaster.Prophet object at 0x000002631C95B110>, 'PSD9YBNBTH3N_poisson_loss': <prophet.forecaster.Prophet object at 0x0000026310900920>, 'PSD9YBNBTH3N_mape': <prophet.forecaster.Prophet object at 0x0000026310901FA0>, 'PSD9YBNBTH3N_remse': <prophet.forecaster.Prophet object at 0x00000263109036E0>, 'PSDC9FX9TH5V_custom': <prophet.forecaster.Prophet object at 0x0000026310924DA0>, 'PSDC9FX9TH5V_mse': <prophet.forecaster.Prophet object at 0x0000026310926480>, 'PSDC9FX9TH5V_huber_loss': <prophet.forecaster.Prophet object at 0x0000026310927B00>, 'PSDC9FX9TH5V_poisson_loss': <prophet.forecaster.Prophet object at 0x00000263109491C0>, 'PSDC9FX9TH5V_mape': <prophet.forecaster.Prophet object at 0x000002631094A840>, 'PSDC9FX9TH5V_remse': <prophet.forecaster.Prophet object at 0x000002631094BF80>, 'PSDCQ68TGM4N_custom': <prophet.forecaster.Prophet object at 0x00000263109E5640>, 'PSDCQ68TGM4N_mse': <prophet.forecaster.Prophet object at 0x00000263109E6DB0>, 'PSDCQ68TGM4N_huber_loss': <prophet.forecaster.Prophet object at 0x00000263109B8530>, 'PSDCQ68TGM4N_poisson_loss': <prophet.forecaster.Prophet object at 0x00000263109B9C70>, 'PSDCQ68TGM4N_mape': <prophet.forecaster.Prophet object at 0x00000263109BB2F0>, 'PSDCQ68TGM4N_remse': <prophet.forecaster.Prophet object at 0x0000026319FA0A70>, 'PSDCX59NXJKT_custom': <prophet.forecaster.Prophet object at 0x0000026319FA2150>, 'PSDCX59NXJKT_mse': <prophet.forecaster.Prophet object at 0x0000026319FA3890>, 'PSDCX59NXJKT_huber_loss': <prophet.forecaster.Prophet object at 0x0000026319FCD070>, 'PSDCX59NXJKT_poisson_loss': <prophet.forecaster.Prophet object at 0x0000026319FCE870>, 'PSDCX59NXJKT_mape': <prophet.forecaster.Prophet object at 0x0000026319FF40B0>, 'PSDCX59NXJKT_remse': <prophet.forecaster.Prophet object at 0x0000026319FF5880>, 'PSDFY9YGJ4F4_custom': <prophet.forecaster.Prophet object at 0x0000026319FF6F60>, 'PSDFY9YGJ4F4_mse': <prophet.forecaster.Prophet object at 0x000002631A0247A0>, 'PSDFY9YGJ4F4_huber_loss': <prophet.forecaster.Prophet object at 0x000002631A025FA0>, 'PSDFY9YGJ4F4_poisson_loss': <prophet.forecaster.Prophet object at 0x000002631A027770>, 'PSDFY9YGJ4F4_mape': <prophet.forecaster.Prophet object at 0x0000026319F50E30>, 'PSDFY9YGJ4F4_remse': <prophet.forecaster.Prophet object at 0x0000026319F52630>, 'PSDGFWMQCZCL_custom': <prophet.forecaster.Prophet object at 0x0000026319F53CB0>, 'PSDGFWMQCZCL_mse': <prophet.forecaster.Prophet object at 0x0000026319F7D340>, 'PSDGFWMQCZCL_huber_loss': <prophet.forecaster.Prophet object at 0x0000026319F7E9C0>, 'PSDGFWMQCZCL_poisson_loss': <prophet.forecaster.Prophet object at 0x000002632D67C0E0>, 'PSDGFWMQCZCL_mape': <prophet.forecaster.Prophet object at 0x000002632D67D760>, 'PSDGFWMQCZCL_remse': <prophet.forecaster.Prophet object at 0x000002632D67EF30>, 'PSDGHY52544X_custom': <prophet.forecaster.Prophet object at 0x000002632D6B85F0>, 'PSDGHY52544X_mse': <prophet.forecaster.Prophet object at 0x000002632D6B9DF0>, 'PSDGHY52544X_huber_loss': <prophet.forecaster.Prophet object at 0x000002632D6BB590>, 'PSDGHY52544X_poisson_loss': <prophet.forecaster.Prophet object at 0x000002632D6C4C50>, 'PSDGHY52544X_mape': <prophet.forecaster.Prophet object at 0x000002632D6C6420>, 'PSDGHY52544X_remse': <prophet.forecaster.Prophet object at 0x000002632D6C7AA0>, 'PSDGLCRTWXC4_custom': <prophet.forecaster.Prophet object at 0x000002632D6D12E0>, 'PSDGLCRTWXC4_mse': <prophet.forecaster.Prophet object at 0x000002632D6D2A20>, 'PSDGLCRTWXC4_huber_loss': <prophet.forecaster.Prophet object at 0x000002632D63C140>, 'PSDGLCRTWXC4_poisson_loss': <prophet.forecaster.Prophet object at 0x000002632D63D820>, 'PSDGLCRTWXC4_mape': <prophet.forecaster.Prophet object at 0x000002632D63EEA0>, 'PSDGLCRTWXC4_remse': <prophet.forecaster.Prophet object at 0x000002632D6685C0>, 'PSDHBJK5KMXH_custom': <prophet.forecaster.Prophet object at 0x000002632D669D90>, 'PSDHBJK5KMXH_mse': <prophet.forecaster.Prophet object at 0x000002632D66B470>, 'PSDHBJK5KMXH_huber_loss': <prophet.forecaster.Prophet object at 0x000002632C5A4B30>, 'PSDHBJK5KMXH_poisson_loss': <prophet.forecaster.Prophet object at 0x000002632C5A6300>, 'PSDHBJK5KMXH_mape': <prophet.forecaster.Prophet object at 0x000002632C5A7980>, 'PSDHBJK5KMXH_remse': <prophet.forecaster.Prophet object at 0x000002632C5D5040>, 'PSDHRF54JQVX_custom': <prophet.forecaster.Prophet object at 0x000002632C5D6810>, 'PSDHRF54JQVX_mse': <prophet.forecaster.Prophet object at 0x000002632C5D7EF0>, 'PSDHRF54JQVX_huber_loss': <prophet.forecaster.Prophet object at 0x000002632C5F5700>, 'PSDHRF54JQVX_poisson_loss': <prophet.forecaster.Prophet object at 0x000002632C5F6ED0>, 'PSDHRF54JQVX_mape': <prophet.forecaster.Prophet object at 0x000002632C53C590>, 'PSDHRF54JQVX_remse': <prophet.forecaster.Prophet object at 0x000002632C53DD60>, 'PSDJYKCT3GBM_custom': <prophet.forecaster.Prophet object at 0x000002632C53F530>, 'PSDJYKCT3GBM_mse': <prophet.forecaster.Prophet object at 0x000002632C570BF0>, 'PSDJYKCT3GBM_huber_loss': <prophet.forecaster.Prophet object at 0x000002632C5722D0>, 'PSDJYKCT3GBM_poisson_loss': <prophet.forecaster.Prophet object at 0x000002632C573950>, 'PSDJYKCT3GBM_mape': <prophet.forecaster.Prophet object at 0x000002630A1150D0>, 'PSDJYKCT3GBM_remse': <prophet.forecaster.Prophet object at 0x000002630A116810>, 'PSDL5FMCVWHQ_custom': <prophet.forecaster.Prophet object at 0x000002630A117EF0>, 'PSDL5FMCVWHQ_mse': <prophet.forecaster.Prophet object at 0x000002630A041730>, 'PSDL5FMCVWHQ_huber_loss': <prophet.forecaster.Prophet object at 0x000002630A042DB0>, 'PSDL5FMCVWHQ_poisson_loss': <prophet.forecaster.Prophet object at 0x000002630A0704D0>, 'PSDL5FMCVWHQ_mape': <prophet.forecaster.Prophet object at 0x000002630A071B50>, 'PSDL5FMCVWHQ_remse': <prophet.forecaster.Prophet object at 0x000002630A073230>, 'PSDM29W2NH9Z_custom': <prophet.forecaster.Prophet object at 0x000002630A0A0A70>, 'PSDM29W2NH9Z_mse': <prophet.forecaster.Prophet object at 0x000002630A0A2270>, 'PSDM29W2NH9Z_huber_loss': <prophet.forecaster.Prophet object at 0x000002630A0A3A70>, 'PSDM29W2NH9Z_poisson_loss': <prophet.forecaster.Prophet object at 0x000002630A0C9250>, 'PSDM29W2NH9Z_mape': <prophet.forecaster.Prophet object at 0x000002630A0CAA20>, 'PSDM29W2NH9Z_remse': <prophet.forecaster.Prophet object at 0x000002630A0F4140>, 'PSDQ8Z5JZLVM_custom': <prophet.forecaster.Prophet object at 0x000002630A0F58E0>, 'PSDQ8Z5JZLVM_mse': <prophet.forecaster.Prophet object at 0x000002630A0F70E0>, 'PSDQ8Z5JZLVM_huber_loss': <prophet.forecaster.Prophet object at 0x000002632A00C7A0>, 'PSDQ8Z5JZLVM_poisson_loss': <prophet.forecaster.Prophet object at 0x000002632A00DE20>, 'PSDQ8Z5JZLVM_mape': <prophet.forecaster.Prophet object at 0x000002632A00F4A0>, 'PSDQ8Z5JZLVM_remse': <prophet.forecaster.Prophet object at 0x000002632A038B60>, 'PSDQG6VWMMZV_custom': <prophet.forecaster.Prophet object at 0x000002632A03A360>, 'PSDQG6VWMMZV_mse': <prophet.forecaster.Prophet object at 0x000002632A03BA40>, 'PSDQG6VWMMZV_huber_loss': <prophet.forecaster.Prophet object at 0x000002632A0651F0>, 'PSDQG6VWMMZV_poisson_loss': <prophet.forecaster.Prophet object at 0x000002632A066870>, 'PSDQG6VWMMZV_mape': <prophet.forecaster.Prophet object at 0x000002632A067EF0>, 'PSDQG6VWMMZV_remse': <prophet.forecaster.Prophet object at 0x000002632A095700>, 'PSDRYF2HTVW4_custom': <prophet.forecaster.Prophet object at 0x000002632A096F00>, 'PSDRYF2HTVW4_mse': <prophet.forecaster.Prophet object at 0x000002632A0C4620>, 'PSDRYF2HTVW4_huber_loss': <prophet.forecaster.Prophet object at 0x000002632A0C5D00>, 'PSDRYF2HTVW4_poisson_loss': <prophet.forecaster.Prophet object at 0x000002632A0C7440>, 'PSDRYF2HTVW4_mape': <prophet.forecaster.Prophet object at 0x0000026329FF8B00>, 'PSDRYF2HTVW4_remse': <prophet.forecaster.Prophet object at 0x0000026329FFA180>, 'PSDTGCY8WBCL_custom': <prophet.forecaster.Prophet object at 0x0000026329FFB800>, 'PSDTGCY8WBCL_mse': <prophet.forecaster.Prophet object at 0x000002632ADB1010>, 'PSDTGCY8WBCL_huber_loss': <prophet.forecaster.Prophet object at 0x000002632ADB2690>, 'PSDTGCY8WBCL_poisson_loss': <prophet.forecaster.Prophet object at 0x000002632ADB3D10>, 'PSDTGCY8WBCL_mape': <prophet.forecaster.Prophet object at 0x000002632ADD93D0>, 'PSDTGCY8WBCL_remse': <prophet.forecaster.Prophet object at 0x000002632ADDABA0>, 'PSDWC2LWJJKJ_custom': <prophet.forecaster.Prophet object at 0x000002632AD04260>, 'PSDWC2LWJJKJ_mse': <prophet.forecaster.Prophet object at 0x000002632AD05940>, 'PSDWC2LWJJKJ_huber_loss': <prophet.forecaster.Prophet object at 0x000002632AD06FC0>, 'PSDWC2LWJJKJ_poisson_loss': <prophet.forecaster.Prophet object at 0x000002632AD30680>, 'PSDWC2LWJJKJ_mape': <prophet.forecaster.Prophet object at 0x000002632AD31D00>, 'PSDWC2LWJJKJ_remse': <prophet.forecaster.Prophet object at 0x000002632AD333E0>, 'PSDWKY269FGX_custom': <prophet.forecaster.Prophet object at 0x000002632AD64AA0>, 'PSDWKY269FGX_mse': <prophet.forecaster.Prophet object at 0x000002632AD66150>, 'PSDWKY269FGX_huber_loss': <prophet.forecaster.Prophet object at 0x000002632AD67890>, 'PSDWKY269FGX_poisson_loss': <prophet.forecaster.Prophet object at 0x0000026309B5CF50>, 'PSDWKY269FGX_mape': <prophet.forecaster.Prophet object at 0x0000026309B5E5D0>, 'PSDWKY269FGX_remse': <prophet.forecaster.Prophet object at 0x0000026309B5FCB0>, 'PSDWLHH83Z5R_custom': <prophet.forecaster.Prophet object at 0x0000026309B3D3D0>, 'PSDWLHH83Z5R_mse': <prophet.forecaster.Prophet object at 0x0000026309B3EA50>, 'PSDWLHH83Z5R_huber_loss': <prophet.forecaster.Prophet object at 0x0000026309C00110>, 'PSDWLHH83Z5R_poisson_loss': <prophet.forecaster.Prophet object at 0x0000026309C017F0>, 'PSDWLHH83Z5R_mape': <prophet.forecaster.Prophet object at 0x0000026309C02ED0>, 'PSDWLHH83Z5R_remse': <prophet.forecaster.Prophet object at 0x0000026309BD4710>, 'PSDXY82RRJ2G_custom': <prophet.forecaster.Prophet object at 0x0000026309BD5D90>, 'PSDXY82RRJ2G_mse': <prophet.forecaster.Prophet object at 0x0000026309BD7590>, 'PSDXY82RRJ2G_huber_loss': <prophet.forecaster.Prophet object at 0x0000026309BA8C50>, 'PSDXY82RRJ2G_poisson_loss': <prophet.forecaster.Prophet object at 0x0000026309BAA2D0>, 'PSDXY82RRJ2G_mape': <prophet.forecaster.Prophet object at 0x0000026309BABAA0>, 'PSDXY82RRJ2G_remse': <prophet.forecaster.Prophet object at 0x0000026309B75160>, 'PSDYGQ2FH553_custom': <prophet.forecaster.Prophet object at 0x0000026309B76840>, 'PSDYGQ2FH553_mse': <prophet.forecaster.Prophet object at 0x0000026309B77F20>, 'PSDYGQ2FH553_huber_loss': <prophet.forecaster.Prophet object at 0x00000263075056A0>, 'PSDYGQ2FH553_poisson_loss': <prophet.forecaster.Prophet object at 0x0000026307506D20>, 'PSDYGQ2FH553_mape': <prophet.forecaster.Prophet object at 0x0000026307534440>, 'PSDYGQ2FH553_remse': <prophet.forecaster.Prophet object at 0x0000026307535C40>, 'PSDZ66XTNWL8_custom': <prophet.forecaster.Prophet object at 0x0000026307537320>, 'PSDZ66XTNWL8_mse': <prophet.forecaster.Prophet object at 0x00000263075B4B00>, 'PSDZ66XTNWL8_huber_loss': <prophet.forecaster.Prophet object at 0x00000263075B61E0>, 'PSDZ66XTNWL8_poisson_loss': <prophet.forecaster.Prophet object at 0x00000263075B7860>, 'PSDZ66XTNWL8_mape': <prophet.forecaster.Prophet object at 0x0000026307594F20>, 'PSDZ66XTNWL8_remse': <prophet.forecaster.Prophet object at 0x0000026307596720>, 'PSD6B28VJ233_custom': <prophet.forecaster.Prophet object at 0x0000026307597DA0>, 'PSD6B28VJ233_mse': <prophet.forecaster.Prophet object at 0x00000263075C59A0>, 'PSD6B28VJ233_huber_loss': <prophet.forecaster.Prophet object at 0x00000263075C7110>, 'PSD6B28VJ233_poisson_loss': <prophet.forecaster.Prophet object at 0x000002633085C860>, 'PSD6B28VJ233_mape': <prophet.forecaster.Prophet object at 0x000002633085DFA0>, 'PSD6B28VJ233_remse': <prophet.forecaster.Prophet object at 0x000002633085F620>}\n",
      "<class 'dict'>\n"
     ]
    }
   ],
   "source": [
    "model_pickle_file = 'prophet_models_daily_2_10.pkl'\n",
    "\n",
    "try:\n",
    "    with open(f'data/models/{model_pickle_file}', 'rb') as file:\n",
    "        models = pickle.load(file)\n",
    "\n",
    "    print(f\"Loaded sku len: {len(models)}\")\n",
    "    print(f\"Loaded skus: {models}\")\n",
    "    print(type(models))\n",
    "except:\n",
    "    models= {}\n",
    "s = []\n",
    "for model_key, model in models.items():\n",
    "    # Extract SKU from the model key (e.g., 'PSD6TL96YF9Z_mse' -> 'PSD6TL96YF9Z')\n",
    "    sku = model_key.split('_')[0]\n",
    "    s.append(sku)\n"
   ]
  },
  {
   "cell_type": "code",
   "execution_count": 36,
   "id": "58427752",
   "metadata": {},
   "outputs": [
    {
     "data": {
      "text/plain": [
       "(11760, 16)"
      ]
     },
     "execution_count": 36,
     "metadata": {},
     "output_type": "execute_result"
    }
   ],
   "source": [
    "try:\n",
    "    prev_loss = pd.read_csv('data/currated/params_loss_daily_2_10.csv')\n",
    "    prev_loss = prev_loss.drop(columns='Unnamed: 0')\n",
    "except:\n",
    "    prev_loss = pd.DataFrame(columns=['changepoint_prior_scale', 'changepoint_range',\n",
    "       'daily_seasonality', 'growth', 'holidays_prior_scale', 'interval_width',\n",
    "       'n_changepoints', 'seasonality_mode', 'seasonality_prior_scale',\n",
    "       'uncertainty_samples', 'weekly_seasonality', 'yearly_seasonality',\n",
    "       'sku', 'loss', 'loss_function','training_time'])\n",
    "prev_loss.head(2)\n",
    "prev_loss.shape"
   ]
  },
  {
   "cell_type": "code",
   "execution_count": 37,
   "id": "9efb95de",
   "metadata": {},
   "outputs": [
    {
     "data": {
      "text/plain": [
       "49"
      ]
     },
     "execution_count": 37,
     "metadata": {},
     "output_type": "execute_result"
    }
   ],
   "source": [
    "len(prev_loss['sku'].unique())"
   ]
  },
  {
   "cell_type": "code",
   "execution_count": 19,
   "id": "c67c466f",
   "metadata": {},
   "outputs": [
    {
     "name": "stderr",
     "output_type": "stream",
     "text": [
      "C:\\Users/Danial Nasir Awan'/Desktop/Notion/Projects and portfolios/personal-endevours/projects/amazon-sales-predictor/libraries\\training_xgb_models.py:60: DtypeWarning: Columns (6,7) have mixed types. Specify dtype option on import or set low_memory=False.\n",
      "  prod = cu.clean_prod(pd.read_csv('data/raw/prod.csv'))\n"
     ]
    }
   ],
   "source": [
    "train_df, test_df,prod, current_skus = trainer.load_data(create_test_train_split = True, top_skus=False) \n"
   ]
  },
  {
   "cell_type": "code",
   "execution_count": 38,
   "id": "779fdadd",
   "metadata": {},
   "outputs": [
    {
     "data": {
      "text/plain": [
       "Timestamp('2023-12-31 00:00:00')"
      ]
     },
     "execution_count": 38,
     "metadata": {},
     "output_type": "execute_result"
    }
   ],
   "source": [
    "train_df['purchase_date'].max()"
   ]
  },
  {
   "cell_type": "code",
   "execution_count": 39,
   "id": "17e9cba7",
   "metadata": {},
   "outputs": [
    {
     "data": {
      "text/plain": [
       "Timestamp('2024-10-25 00:00:00')"
      ]
     },
     "execution_count": 39,
     "metadata": {},
     "output_type": "execute_result"
    }
   ],
   "source": [
    "test_df['purchase_date'].max()"
   ]
  },
  {
   "cell_type": "code",
   "execution_count": null,
   "id": "61163e10",
   "metadata": {},
   "outputs": [
    {
     "data": {
      "text/plain": [
       "1"
      ]
     },
     "execution_count": 22,
     "metadata": {},
     "output_type": "execute_result"
    }
   ],
   "source": [
    "difference = list(set(sku_to_model) - set(s))\n",
    "data_sku = difference\n",
    "testing_data = test_df[test_df['sku'].isin(data_sku)]\n",
    "training_data = train_df[train_df['sku'].isin(testing_data['sku'].unique())]\n",
    "len(data_sku)\n"
   ]
  },
  {
   "cell_type": "code",
   "execution_count": 23,
   "id": "fab8c9ef",
   "metadata": {},
   "outputs": [
    {
     "data": {
      "text/plain": [
       "array(['PSD6B28VJ233'], dtype=object)"
      ]
     },
     "execution_count": 23,
     "metadata": {},
     "output_type": "execute_result"
    }
   ],
   "source": [
    "training_data['sku'].unique()"
   ]
  },
  {
   "cell_type": "code",
   "execution_count": 24,
   "id": "01688075",
   "metadata": {},
   "outputs": [
    {
     "data": {
      "text/plain": [
       "array(['PSD6B28VJ233'], dtype=object)"
      ]
     },
     "execution_count": 24,
     "metadata": {},
     "output_type": "execute_result"
    }
   ],
   "source": [
    "testing_data['sku'].unique()"
   ]
  },
  {
   "cell_type": "code",
   "execution_count": 25,
   "id": "762ea3e0",
   "metadata": {},
   "outputs": [],
   "source": [
    "loss_functions = [\n",
    "    'custom',\n",
    "    'mse',\n",
    "    'huber_loss',\n",
    "    'poisson_loss',\n",
    "    'mape',\n",
    "    'remse'\n",
    "]\n",
    "from scipy.stats import uniform\n",
    "param_space = dict(\n",
    "    growth=['linear','flat'],\n",
    "    n_changepoints=range(5, 25, 5),\n",
    "    changepoint_range=uniform(0.7, 0.2),\n",
    "    yearly_seasonality=[True,False],\n",
    "    weekly_seasonality=[True,False],\n",
    "    daily_seasonality=[False,False],\n",
    "    seasonality_mode=['additive', 'multiplicative'],\n",
    "    seasonality_prior_scale=uniform(10.0, 20.0),\n",
    "    changepoint_prior_scale=uniform(0.05, 0.2),\n",
    "    interval_width=uniform(0.8, 0.2),\n",
    "    uncertainty_samples=[1000, 2000],\n",
    "    holidays_prior_scale=uniform(0.5, 2.0),\n",
    ")\n",
    "args_list = []\n",
    "for sku in training_data['sku'].unique():\n",
    "    for loss_name in loss_functions:\n",
    "        # print(loss_name)\n",
    "        args_list.append((sku, training_data[training_data['sku'] == sku],\n",
    "                          testing_data[testing_data['sku'] == sku],\n",
    "                          loss_name,param_space ,\n",
    "                          models))"
   ]
  },
  {
   "cell_type": "code",
   "execution_count": 26,
   "id": "71c61a0b",
   "metadata": {},
   "outputs": [
    {
     "name": "stderr",
     "output_type": "stream",
     "text": [
      "Training Models:   0%|          | 0/6 [00:00<?, ?it/s]"
     ]
    },
    {
     "data": {
      "application/vnd.jupyter.widget-view+json": {
       "model_id": "8aa3fd87f3e54d1fb7a39148b5518668",
       "version_major": 2,
       "version_minor": 0
      },
      "text/plain": [
       "  0%|          | 0/30 [00:00<?, ?it/s]"
      ]
     },
     "metadata": {},
     "output_type": "display_data"
    },
    {
     "name": "stderr",
     "output_type": "stream",
     "text": [
      "Optimization terminated abnormally. Falling back to Newton.\n",
      "Optimization terminated abnormally. Falling back to Newton.\n",
      "Optimization terminated abnormally. Falling back to Newton.\n",
      "Optimization terminated abnormally. Falling back to Newton.\n",
      "Optimization terminated abnormally. Falling back to Newton.\n",
      "Training Models:  17%|█▋        | 1/6 [03:13<16:05, 193.12s/it]"
     ]
    },
    {
     "data": {
      "application/vnd.jupyter.widget-view+json": {
       "model_id": "dc5c7f2b581a42e3b3df2d8aff335073",
       "version_major": 2,
       "version_minor": 0
      },
      "text/plain": [
       "  0%|          | 0/30 [00:00<?, ?it/s]"
      ]
     },
     "metadata": {},
     "output_type": "display_data"
    },
    {
     "name": "stderr",
     "output_type": "stream",
     "text": [
      "Optimization terminated abnormally. Falling back to Newton.\n",
      "Training Models:  33%|███▎      | 2/6 [06:28<12:58, 194.62s/it]"
     ]
    },
    {
     "data": {
      "application/vnd.jupyter.widget-view+json": {
       "model_id": "6f75ec80a4e04d379e1567e56885da0c",
       "version_major": 2,
       "version_minor": 0
      },
      "text/plain": [
       "  0%|          | 0/30 [00:00<?, ?it/s]"
      ]
     },
     "metadata": {},
     "output_type": "display_data"
    },
    {
     "name": "stderr",
     "output_type": "stream",
     "text": [
      "Optimization terminated abnormally. Falling back to Newton.\n",
      "Optimization terminated abnormally. Falling back to Newton.\n",
      "Training Models:  50%|█████     | 3/6 [09:41<09:41, 193.86s/it]"
     ]
    },
    {
     "data": {
      "application/vnd.jupyter.widget-view+json": {
       "model_id": "009e189440cb4cf09c30eee840e72bd4",
       "version_major": 2,
       "version_minor": 0
      },
      "text/plain": [
       "  0%|          | 0/30 [00:00<?, ?it/s]"
      ]
     },
     "metadata": {},
     "output_type": "display_data"
    },
    {
     "name": "stderr",
     "output_type": "stream",
     "text": [
      "Training Models:  67%|██████▋   | 4/6 [12:53<06:25, 192.89s/it]"
     ]
    },
    {
     "data": {
      "application/vnd.jupyter.widget-view+json": {
       "model_id": "005417153f194853be0217d286e9b339",
       "version_major": 2,
       "version_minor": 0
      },
      "text/plain": [
       "  0%|          | 0/30 [00:00<?, ?it/s]"
      ]
     },
     "metadata": {},
     "output_type": "display_data"
    },
    {
     "name": "stderr",
     "output_type": "stream",
     "text": [
      "Optimization terminated abnormally. Falling back to Newton.\n",
      "Training Models:  83%|████████▎ | 5/6 [16:07<03:13, 193.25s/it]"
     ]
    },
    {
     "data": {
      "application/vnd.jupyter.widget-view+json": {
       "model_id": "aae77761f29c4429a4f7040a903b3186",
       "version_major": 2,
       "version_minor": 0
      },
      "text/plain": [
       "  0%|          | 0/30 [00:00<?, ?it/s]"
      ]
     },
     "metadata": {},
     "output_type": "display_data"
    },
    {
     "name": "stderr",
     "output_type": "stream",
     "text": [
      "Training Models: 100%|██████████| 6/6 [19:14<00:00, 192.39s/it]\n"
     ]
    }
   ],
   "source": [
    "import logging\n",
    "import prophet_modeling as pm \n",
    "logger = logging.getLogger('cmdstanpy')\n",
    "logger.addHandler(logging.NullHandler())\n",
    "logger.propagate = False\n",
    "logger.setLevel(logging.CRITICAL)\n",
    "\n",
    "results, models = pm.train(args_list)"
   ]
  },
  {
   "cell_type": "code",
   "execution_count": 29,
   "id": "ec40d81a",
   "metadata": {},
   "outputs": [],
   "source": [
    "if (results):\n",
    "    loss_results = pd.concat(results)\n",
    "    complete_loss_df = pd.concat([loss_results,prev_loss])\n",
    "    complete_loss_df.to_csv('data/currated/params_loss_daily_2_10.csv')"
   ]
  },
  {
   "cell_type": "code",
   "execution_count": 30,
   "id": "86d87c03",
   "metadata": {},
   "outputs": [
    {
     "data": {
      "text/plain": [
       "49"
      ]
     },
     "execution_count": 30,
     "metadata": {},
     "output_type": "execute_result"
    }
   ],
   "source": [
    "len(complete_loss_df['sku'].unique())"
   ]
  },
  {
   "cell_type": "code",
   "execution_count": 31,
   "id": "18661f6e",
   "metadata": {},
   "outputs": [],
   "source": [
    "\n",
    "try:\n",
    "    with open(f'data/models/{model_pickle_file}', 'wb') as file:\n",
    "        pickle.dump(models,file)\n",
    "except:\n",
    "    print('not able to save models')"
   ]
  }
 ],
 "metadata": {
  "kernelspec": {
   "display_name": "Python 3",
   "language": "python",
   "name": "python3"
  },
  "language_info": {
   "codemirror_mode": {
    "name": "ipython",
    "version": 3
   },
   "file_extension": ".py",
   "mimetype": "text/x-python",
   "name": "python",
   "nbconvert_exporter": "python",
   "pygments_lexer": "ipython3",
   "version": "3.12.4"
  }
 },
 "nbformat": 4,
 "nbformat_minor": 5
}
